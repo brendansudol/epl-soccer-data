{
 "metadata": {
  "name": ""
 },
 "nbformat": 3,
 "nbformat_minor": 0,
 "worksheets": [
  {
   "cells": [
    {
     "cell_type": "code",
     "collapsed": false,
     "input": [
      "import pandas as pd\n",
      "import numpy as np"
     ],
     "language": "python",
     "metadata": {},
     "outputs": [],
     "prompt_number": 85
    },
    {
     "cell_type": "code",
     "collapsed": false,
     "input": [
      "data_file = \"../data-out/combined.tsv\"\n",
      "df = pd.read_csv(data_file, sep=\"\\t\")\n",
      "\n",
      "df['game_id'] = range(1, len(df) + 1)\n",
      "df['home_scorers'] = df['home_scorers'].fillna('NULL')\n",
      "df['away_scorers'] = df['away_scorers'].fillna('NULL')\n",
      "\n",
      "print len(df)\n",
      "print df.iloc[0]"
     ],
     "language": "python",
     "metadata": {},
     "outputs": [
      {
       "output_type": "stream",
       "stream": "stdout",
       "text": [
        "4940\n",
        "season                                               2001-2002\n",
        "date                                                2002-06-11\n",
        "home_team                                     Blackburn Rovers\n",
        "home_score                                                   3\n",
        "home_scorers    Andy Cole,53,g;Damien Duff,66,g;Andy Cole,81,g\n",
        "away_team                                               Fulham\n",
        "away_score                                                   0\n",
        "away_scorers                                              NULL\n",
        "venue                                               Ewood Park\n",
        "game_id                                                      1\n",
        "Name: 0, dtype: object\n"
       ]
      }
     ],
     "prompt_number": 86
    },
    {
     "cell_type": "code",
     "collapsed": false,
     "input": [
      "df.home_team.value_counts()[:10]"
     ],
     "language": "python",
     "metadata": {},
     "outputs": [
      {
       "metadata": {},
       "output_type": "pyout",
       "prompt_number": 87,
       "text": [
        "Liverpool            247\n",
        "Tottenham Hotspur    247\n",
        "Manchester United    247\n",
        "Aston Villa          247\n",
        "Arsenal              247\n",
        "Everton              247\n",
        "Fulham               247\n",
        "Chelsea              247\n",
        "Manchester City      228\n",
        "Newcastle United     228\n",
        "dtype: int64"
       ]
      }
     ],
     "prompt_number": 87
    },
    {
     "cell_type": "code",
     "collapsed": false,
     "input": [
      "print df[['home_score', 'away_score']].describe()"
     ],
     "language": "python",
     "metadata": {},
     "outputs": [
      {
       "output_type": "stream",
       "stream": "stdout",
       "text": [
        "        home_score   away_score\n",
        "count  4940.000000  4940.000000\n",
        "mean      1.523279     1.129555\n",
        "std       1.301200     1.121229\n",
        "min       0.000000     0.000000\n",
        "25%       1.000000     0.000000\n",
        "50%       1.000000     1.000000\n",
        "75%       2.000000     2.000000\n",
        "max       9.000000     6.000000\n",
        "\n",
        "[8 rows x 2 columns]\n"
       ]
      }
     ],
     "prompt_number": 88
    },
    {
     "cell_type": "code",
     "collapsed": false,
     "input": [
      "# most popular scores\n",
      "def result_norm(row):\n",
      "    scores = sorted([row.home_score, row.away_score], reverse=True)\n",
      "    return '-'.join(str(s) for s in scores)\n",
      "\n",
      "df['result'] = df.apply(result_norm, axis=1)\n",
      "\n",
      "results = df.groupby('result')['game_id'].agg({'games': len})\n",
      "results.sort('games', ascending=False, inplace=True)\n",
      "\n",
      "total_games = sum(results.games)\n",
      "results['perc'] = (results.games / total_games).astype(float)\n",
      "\n",
      "print results.head(10)"
     ],
     "language": "python",
     "metadata": {},
     "outputs": [
      {
       "output_type": "stream",
       "stream": "stdout",
       "text": [
        "        games      perc\n",
        "result                 \n",
        "1-0       885  0.179150\n",
        "2-1       757  0.153239\n",
        "2-0       630  0.127530\n",
        "1-1       557  0.112753\n",
        "0-0       412  0.083401\n",
        "3-1       354  0.071660\n",
        "3-0       311  0.062955\n",
        "2-2       255  0.051619\n",
        "3-2       198  0.040081\n",
        "4-0       143  0.028947\n",
        "\n",
        "[10 rows x 2 columns]\n"
       ]
      }
     ],
     "prompt_number": 89
    },
    {
     "cell_type": "code",
     "collapsed": false,
     "input": [
      "# new dataframe that consolidates home_team & away_team into 'team' column\n",
      "\n",
      "# home teams\n",
      "home_teams = df.copy()\n",
      "home_teams['home_away'] = 'home'\n",
      "\n",
      "new_col_names = {\n",
      "    'home_team': 'team', 'home_score': 'team_score', 'home_scorers': 'team_scorers',\n",
      "    'away_team': 'opp', 'away_score': 'opp_score', 'away_scorers': 'opp_scorers',\n",
      "}\n",
      "\n",
      "home_teams.rename(columns=new_col_names, inplace=True)\n",
      "\n",
      "# away teams\n",
      "away_teams = df.copy()\n",
      "away_teams['home_away'] = 'away'\n",
      "\n",
      "new_col_names = {\n",
      "    'home_team': 'opp', 'home_score': 'opp_score', 'home_scorers': 'opp_scorers',\n",
      "    'away_team': 'team', 'away_score': 'team_score', 'away_scorers': 'team_scorers',\n",
      "}\n",
      "\n",
      "away_teams.rename(columns=new_col_names, inplace=True)\n",
      "\n",
      "dg = pd.concat([home_teams, away_teams])\n",
      "\n",
      "cols = ['game_id', 'date', 'season', 'home_away', 'team', 'team_score', 'team_scorers', 'opp', 'opp_score', 'opp_scorers']\n",
      "dg = dg[cols]\n",
      "\n",
      "# check that it worked\n",
      "print len(dg)\n",
      "print len(unique(dg.game_id))\n",
      "\n",
      "dg[dg.game_id == 1]"
     ],
     "language": "python",
     "metadata": {},
     "outputs": [
      {
       "output_type": "stream",
       "stream": "stdout",
       "text": [
        "9880\n",
        "4940\n"
       ]
      },
      {
       "html": [
        "<div style=\"max-height:1000px;max-width:1500px;overflow:auto;\">\n",
        "<table border=\"1\" class=\"dataframe\">\n",
        "  <thead>\n",
        "    <tr style=\"text-align: right;\">\n",
        "      <th></th>\n",
        "      <th>game_id</th>\n",
        "      <th>date</th>\n",
        "      <th>season</th>\n",
        "      <th>home_away</th>\n",
        "      <th>team</th>\n",
        "      <th>team_score</th>\n",
        "      <th>team_scorers</th>\n",
        "      <th>opp</th>\n",
        "      <th>opp_score</th>\n",
        "      <th>opp_scorers</th>\n",
        "    </tr>\n",
        "  </thead>\n",
        "  <tbody>\n",
        "    <tr>\n",
        "      <th>0</th>\n",
        "      <td> 1</td>\n",
        "      <td> 2002-06-11</td>\n",
        "      <td> 2001-2002</td>\n",
        "      <td> home</td>\n",
        "      <td> Blackburn Rovers</td>\n",
        "      <td> 3</td>\n",
        "      <td> Andy Cole,53,g;Damien Duff,66,g;Andy Cole,81,g</td>\n",
        "      <td>           Fulham</td>\n",
        "      <td> 0</td>\n",
        "      <td>                                           NULL</td>\n",
        "    </tr>\n",
        "    <tr>\n",
        "      <th>0</th>\n",
        "      <td> 1</td>\n",
        "      <td> 2002-06-11</td>\n",
        "      <td> 2001-2002</td>\n",
        "      <td> away</td>\n",
        "      <td>           Fulham</td>\n",
        "      <td> 0</td>\n",
        "      <td>                                           NULL</td>\n",
        "      <td> Blackburn Rovers</td>\n",
        "      <td> 3</td>\n",
        "      <td> Andy Cole,53,g;Damien Duff,66,g;Andy Cole,81,g</td>\n",
        "    </tr>\n",
        "  </tbody>\n",
        "</table>\n",
        "<p>2 rows \u00d7 10 columns</p>\n",
        "</div>"
       ],
       "metadata": {},
       "output_type": "pyout",
       "prompt_number": 92,
       "text": [
        "   game_id        date     season home_away              team  team_score  \\\n",
        "0        1  2002-06-11  2001-2002      home  Blackburn Rovers           3   \n",
        "0        1  2002-06-11  2001-2002      away            Fulham           0   \n",
        "\n",
        "                                     team_scorers               opp  \\\n",
        "0  Andy Cole,53,g;Damien Duff,66,g;Andy Cole,81,g            Fulham   \n",
        "0                                            NULL  Blackburn Rovers   \n",
        "\n",
        "   opp_score                                     opp_scorers  \n",
        "0          0                                            NULL  \n",
        "0          3  Andy Cole,53,g;Damien Duff,66,g;Andy Cole,81,g  \n",
        "\n",
        "[2 rows x 10 columns]"
       ]
      }
     ],
     "prompt_number": 92
    },
    {
     "cell_type": "code",
     "collapsed": false,
     "input": [
      "# goals by team\n",
      "team_goals = dg.groupby('team')['team_score'].agg({'goals_avg': mean})\n",
      "team_goals.sort('goals_avg', ascending=False, inplace=True)\n",
      "\n",
      "print team_goals.head(10)"
     ],
     "language": "python",
     "metadata": {},
     "outputs": [
      {
       "output_type": "stream",
       "stream": "stdout",
       "text": [
        "                   goals_avg\n",
        "team                        \n",
        "Manchester United   2.004049\n",
        "Arsenal             1.965587\n",
        "Chelsea             1.880567\n",
        "Liverpool           1.647773\n",
        "Manchester City     1.574561\n",
        "Tottenham Hotspur   1.459514\n",
        "Blackpool           1.447368\n",
        "Newcastle United    1.331140\n",
        "Everton             1.329960\n",
        "Leeds United        1.324561\n",
        "\n",
        "[10 rows x 1 columns]\n"
       ]
      }
     ],
     "prompt_number": 97
    },
    {
     "cell_type": "code",
     "collapsed": false,
     "input": [
      "# new dataframe around goals\n",
      "\n",
      "goals_data = []\n",
      "for i, r in dg.iterrows():\n",
      "    if r.team_scorers != 'NULL':\n",
      "        goals = r.team_scorers.split(';')\n",
      "        for goal in goals:\n",
      "            g_entry = goal.split(',')\n",
      "            goals_data.append(g_entry)\n",
      "\n",
      "goals_df = pd.DataFrame(goals_data, columns=['name', 'time', 'type'])\n",
      "goals_df['time'] = goals_df['time'].astype(int)\n",
      "\n",
      "print len(goals_df)\n",
      "print goals_df.head()"
     ],
     "language": "python",
     "metadata": {},
     "outputs": [
      {
       "output_type": "stream",
       "stream": "stdout",
       "text": [
        "13001\n",
        "            name  time type\n",
        "0      Andy Cole    53    g\n",
        "1    Damien Duff    66    g\n",
        "2      Andy Cole    81    g\n",
        "3    Paul Dickov    60    g\n",
        "4  Matthew Piper    71    g\n",
        "\n",
        "[5 rows x 3 columns]\n"
       ]
      }
     ],
     "prompt_number": 118
    },
    {
     "cell_type": "code",
     "collapsed": false,
     "input": [
      "goals_df.time.value_counts()[:10]"
     ],
     "language": "python",
     "metadata": {},
     "outputs": [
      {
       "metadata": {},
       "output_type": "pyout",
       "prompt_number": 123,
       "text": [
        "90    807\n",
        "45    439\n",
        "89    172\n",
        "52    171\n",
        "80    169\n",
        "87    168\n",
        "67    164\n",
        "88    163\n",
        "68    162\n",
        "63    161\n",
        "dtype: int64"
       ]
      }
     ],
     "prompt_number": 123
    }
   ],
   "metadata": {}
  }
 ]
}